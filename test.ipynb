{
 "metadata": {
  "language_info": {
   "codemirror_mode": {
    "name": "ipython",
    "version": 3
   },
   "file_extension": ".py",
   "mimetype": "text/x-python",
   "name": "python",
   "nbconvert_exporter": "python",
   "pygments_lexer": "ipython3",
   "version": "3.7.7"
  },
  "orig_nbformat": 2,
  "kernelspec": {
   "name": "python377jvsc74a57bd0f7dd4df3528323c2fb3ea3e6f144cbd647359ca000a90413e0b6cde23ac11932",
   "display_name": "Python 3.7.7 64-bit"
  }
 },
 "nbformat": 4,
 "nbformat_minor": 2,
 "cells": [
  {
   "cell_type": "code",
   "execution_count": null,
   "metadata": {},
   "outputs": [],
   "source": [
    "import torch\n",
    "import torchvision.transforms.functional as F\n",
    "from src import model, dataset"
   ]
  },
  {
   "cell_type": "code",
   "execution_count": null,
   "metadata": {},
   "outputs": [],
   "source": [
    "dataset = dataset.CracksDataset('valid')\n",
    "loader = dataset.get_loader(batch_size=2, num_workers=0)\n",
    "batch = next(iter(loader))"
   ]
  },
  {
   "cell_type": "code",
   "execution_count": 3,
   "metadata": {},
   "outputs": [
    {
     "output_type": "execute_result",
     "data": {
      "text/plain": [
       "<All keys matched successfully>"
      ]
     },
     "metadata": {},
     "execution_count": 3
    }
   ],
   "source": [
    "net = model.UNet().eval()\n",
    "state_dict = torch.load('logs/0/checkpoints/best.pth', map_location='cpu')['model_state_dict']\n",
    "net.load_state_dict(state_dict)"
   ]
  },
  {
   "cell_type": "code",
   "execution_count": 4,
   "metadata": {},
   "outputs": [],
   "source": [
    "targets = batch.pop('masks')\n",
    "inputs = batch.pop('images')\n",
    "outputs = net(inputs)"
   ]
  },
  {
   "cell_type": "code",
   "execution_count": 15,
   "metadata": {},
   "outputs": [],
   "source": [
    "save_fmt = 'tests/{}.png'\n",
    "for index, (inp, tar, out) in enumerate(zip(inputs, targets, outputs)):\n",
    "    F.to_pil_image(inp).save(save_fmt.format(f'input_{index}'))\n",
    "    F.to_pil_image(tar).save(save_fmt.format(f'target_{index}'))\n",
    "    F.to_pil_image(out).save(save_fmt.format(f'predict_{index}'))\n",
    "    # print(inp.shape, tar.shape, out.shape)"
   ]
  },
  {
   "cell_type": "code",
   "execution_count": null,
   "metadata": {},
   "outputs": [],
   "source": []
  }
 ]
}