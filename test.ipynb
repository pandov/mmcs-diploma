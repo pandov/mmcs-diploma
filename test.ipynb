{
 "metadata": {
  "language_info": {
   "codemirror_mode": {
    "name": "ipython",
    "version": 3
   },
   "file_extension": ".py",
   "mimetype": "text/x-python",
   "name": "python",
   "nbconvert_exporter": "python",
   "pygments_lexer": "ipython3",
   "version": "3.7.7"
  },
  "orig_nbformat": 2,
  "kernelspec": {
   "name": "python37764bit512bd64cb0354e619cb8cb3f86cb441e",
   "display_name": "Python 3.7.7 64-bit"
  },
  "metadata": {
   "interpreter": {
    "hash": "f7dd4df3528323c2fb3ea3e6f144cbd647359ca000a90413e0b6cde23ac11932"
   }
  }
 },
 "nbformat": 4,
 "nbformat_minor": 2,
 "cells": [
  {
   "cell_type": "code",
   "execution_count": 1,
   "metadata": {},
   "outputs": [],
   "source": [
    "import torch\n",
    "import torchvision.transforms.functional as F\n",
    "from src import model, dataset, augmentations"
   ]
  },
  {
   "cell_type": "code",
   "execution_count": 2,
   "metadata": {},
   "outputs": [],
   "source": [
    "class Resize(augmentations.T.Resize):\n",
    "    def forward(self, image, mask):\n",
    "        image = F.resize(image, self.size, self.interpolation)\n",
    "        mask = F.resize(mask, self.size, self.interpolation)\n",
    "        return (image,), (mask,)"
   ]
  },
  {
   "cell_type": "code",
   "execution_count": 3,
   "metadata": {},
   "outputs": [],
   "source": [
    "dataset = dataset.CracksDataset('valid')\n",
    "# dataset.transform = augmentations.Compose([\n",
    "#     Resize(224),\n",
    "#     augmentations.ToTensor(),\n",
    "# ])\n",
    "loader = dataset.get_loader(batch_size=2, num_workers=0)\n",
    "batch = next(iter(loader))"
   ]
  },
  {
   "cell_type": "code",
   "execution_count": 4,
   "metadata": {},
   "outputs": [
    {
     "output_type": "execute_result",
     "data": {
      "text/plain": [
       "_IncompatibleKeys(missing_keys=['decoder.deconv4.weight', 'decoder.deconv4.bias', 'decoder.conv4.0.weight', 'decoder.conv4.1.weight', 'decoder.conv4.1.bias', 'decoder.conv4.1.running_mean', 'decoder.conv4.1.running_var', 'decoder.conv4.3.weight', 'decoder.conv4.4.weight', 'decoder.conv4.4.bias', 'decoder.conv4.4.running_mean', 'decoder.conv4.4.running_var', 'decoder.deconv3.weight', 'decoder.deconv3.bias', 'decoder.conv3.0.weight', 'decoder.conv3.1.weight', 'decoder.conv3.1.bias', 'decoder.conv3.1.running_mean', 'decoder.conv3.1.running_var', 'decoder.conv3.3.weight', 'decoder.conv3.4.weight', 'decoder.conv3.4.bias', 'decoder.conv3.4.running_mean', 'decoder.conv3.4.running_var', 'decoder.deconv2.weight', 'decoder.deconv2.bias', 'decoder.conv2.0.weight', 'decoder.conv2.1.weight', 'decoder.conv2.1.bias', 'decoder.conv2.1.running_mean', 'decoder.conv2.1.running_var', 'decoder.conv2.3.weight', 'decoder.conv2.4.weight', 'decoder.conv2.4.bias', 'decoder.conv2.4.running_mean', 'decoder.conv2.4.running_var', 'decoder.deconv1.weight', 'decoder.deconv1.bias', 'decoder.conv1.0.weight', 'decoder.conv1.1.weight', 'decoder.conv1.1.bias', 'decoder.conv1.1.running_mean', 'decoder.conv1.1.running_var', 'decoder.conv1.3.weight', 'decoder.conv1.4.weight', 'decoder.conv1.4.bias', 'decoder.conv1.4.running_mean', 'decoder.conv1.4.running_var', 'decoder.header.0.weight', 'decoder.header.0.bias'], unexpected_keys=[])"
      ]
     },
     "metadata": {},
     "execution_count": 4
    }
   ],
   "source": [
    "net = model.UNetClassifier().eval()\n",
    "state_dict_segmentation = torch.load('logs/segmentation/checkpoints/best.pth', map_location='cpu')['model_state_dict']\n",
    "net.load_state_dict(state_dict_segmentation, strict=False)\n",
    "state_dict_classification = torch.load('logs/classification/checkpoints/best.pth', map_location='cpu')['model_state_dict']\n",
    "net.load_state_dict(state_dict_classification, strict=False)"
   ]
  },
  {
   "cell_type": "code",
   "execution_count": 5,
   "metadata": {},
   "outputs": [
    {
     "output_type": "stream",
     "name": "stdout",
     "text": [
      "tensor([[0.8677],\n        [1.0000],\n        [1.0000],\n        [0.9992],\n        [1.0000],\n        [0.9969],\n        [0.6887],\n        [1.0000],\n        [1.0000],\n        [1.0000]], grad_fn=<SigmoidBackward>)\n"
     ]
    }
   ],
   "source": [
    "targets = batch.pop('masks')\n",
    "inputs = batch.pop('images')\n",
    "outputs, classes = net(inputs)\n",
    "print(classes)"
   ]
  },
  {
   "cell_type": "code",
   "execution_count": 6,
   "metadata": {},
   "outputs": [],
   "source": [
    "save_fmt = 'tests/{}.png'\n",
    "for index, (inp, tar, out) in enumerate(zip(inputs, targets, outputs)):\n",
    "    F.to_pil_image(inp).save(save_fmt.format(f'input_{index}'))\n",
    "    F.to_pil_image(tar).save(save_fmt.format(f'target_{index}'))\n",
    "    F.to_pil_image(out).save(save_fmt.format(f'predict_{index}'))\n",
    "    # print(inp.shape, tar.shape, out.shape)"
   ]
  },
  {
   "cell_type": "code",
   "execution_count": null,
   "metadata": {},
   "outputs": [],
   "source": [
    "import torch\n",
    "from src import model\n",
    "net = model.UNetClassifier()\n",
    "inputs1 = torch.rand(3, 224, 224)\n",
    "inputs2 = torch.randn(3, 224, 224)\n",
    "inputs = torch.stack((inputs1, inputs2))\n",
    "masks, classes = net(inputs)"
   ]
  },
  {
   "cell_type": "code",
   "execution_count": null,
   "metadata": {},
   "outputs": [],
   "source": [
    "masks[1].sum()"
   ]
  },
  {
   "cell_type": "code",
   "execution_count": null,
   "metadata": {},
   "outputs": [],
   "source": [
    "torch.where(classes > 0.5)"
   ]
  },
  {
   "cell_type": "code",
   "execution_count": null,
   "metadata": {},
   "outputs": [],
   "source": [
    "idx1"
   ]
  },
  {
   "cell_type": "code",
   "execution_count": null,
   "metadata": {},
   "outputs": [],
   "source": [
    "import torch\n",
    "filepath = 'logs/segmentation/checkpoints/last.pth'\n",
    "state_dict = torch.load(filepath)\n",
    "model_state_dict = state_dict['model_state_dict'].copy()\n",
    "print(model_state_dict.keys())"
   ]
  },
  {
   "source": [
    "new_model_state_dict = {}\n",
    "for key, value in model_state_dict.items():\n",
    "    new_model_state_dict[key.replace('VGGEncoder', 'encoder')] = value"
   ],
   "cell_type": "code",
   "metadata": {},
   "execution_count": null,
   "outputs": []
  },
  {
   "cell_type": "code",
   "execution_count": null,
   "metadata": {},
   "outputs": [],
   "source": [
    "state_dict['model_state_dict'] = new_model_state_dict"
   ]
  },
  {
   "cell_type": "code",
   "execution_count": null,
   "metadata": {},
   "outputs": [],
   "source": [
    "torch.save(state_dict, filepath)"
   ]
  },
  {
   "cell_type": "code",
   "execution_count": null,
   "metadata": {},
   "outputs": [],
   "source": []
  },
  {
   "cell_type": "code",
   "execution_count": 31,
   "metadata": {},
   "outputs": [
    {
     "output_type": "execute_result",
     "data": {
      "text/plain": [
       "-2*t*exp(-y)/((1 + exp(-y))**2*(t + 1 + 1/(1 + exp(-y)))) + (2*t/(1 + exp(-y)) + 1)*exp(-y)/((1 + exp(-y))**2*(t + 1 + 1/(1 + exp(-y)))**2)"
      ],
      "text/latex": "$\\displaystyle - \\frac{2 t e^{- y}}{\\left(1 + e^{- y}\\right)^{2} \\left(t + 1 + \\frac{1}{1 + e^{- y}}\\right)} + \\frac{\\left(\\frac{2 t}{1 + e^{- y}} + 1\\right) e^{- y}}{\\left(1 + e^{- y}\\right)^{2} \\left(t + 1 + \\frac{1}{1 + e^{- y}}\\right)^{2}}$"
     },
     "metadata": {},
     "execution_count": 31
    }
   ],
   "source": [
    "from sympy import *\n",
    "y = Symbol('y')\n",
    "p = 1 / (1 + exp(-y))\n",
    "# p = Function('p')(y)\n",
    "\n",
    "t = Symbol('t')\n",
    "f = 2 * p * t + 1\n",
    "g = p + t + 1\n",
    "h = 1 - f / g\n",
    "dh = Derivative(h, y).doit()\n",
    "dh"
   ]
  },
  {
   "cell_type": "code",
   "execution_count": 39,
   "metadata": {},
   "outputs": [
    {
     "output_type": "execute_result",
     "data": {
      "text/plain": [
       "1.13494671697606e-5"
      ],
      "text/latex": "$\\displaystyle 1.13494671697606 \\cdot 10^{-5}$"
     },
     "metadata": {},
     "execution_count": 39
    }
   ],
   "source": [
    "dh.subs({'y': 10, 't': 0}).evalf()"
   ]
  },
  {
   "cell_type": "code",
   "execution_count": 40,
   "metadata": {},
   "outputs": [
    {
     "output_type": "execute_result",
     "data": {
      "text/plain": [
       "-3.40453101998998e-5"
      ],
      "text/latex": "$\\displaystyle -3.40453101998998 \\cdot 10^{-5}$"
     },
     "metadata": {},
     "execution_count": 40
    }
   ],
   "source": [
    "dh.subs({'y': -10, 't': 1}).evalf()"
   ]
  },
  {
   "cell_type": "code",
   "execution_count": null,
   "metadata": {},
   "outputs": [],
   "source": []
  }
 ]
}