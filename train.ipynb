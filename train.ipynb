{
 "metadata": {
  "language_info": {
   "codemirror_mode": {
    "name": "ipython",
    "version": 3
   },
   "file_extension": ".py",
   "mimetype": "text/x-python",
   "name": "python",
   "nbconvert_exporter": "python",
   "pygments_lexer": "ipython3",
   "version": "3.7.7"
  },
  "orig_nbformat": 2,
  "kernelspec": {
   "name": "python37764bit512bd64cb0354e619cb8cb3f86cb441e",
   "display_name": "Python 3.7.7 64-bit"
  },
  "metadata": {
   "interpreter": {
    "hash": "f7dd4df3528323c2fb3ea3e6f144cbd647359ca000a90413e0b6cde23ac11932"
   }
  }
 },
 "nbformat": 4,
 "nbformat_minor": 2,
 "cells": [
  {
   "cell_type": "code",
   "execution_count": null,
   "metadata": {},
   "outputs": [],
   "source": [
    "import torch\n",
    "from src import criterion, dataset, metric, model, utils"
   ]
  },
  {
   "cell_type": "code",
   "execution_count": null,
   "metadata": {},
   "outputs": [],
   "source": [
    "criterion_dice = criterion.DiceLoss()\n",
    "criterion_bce = torch.nn.BCELoss()"
   ]
  },
  {
   "cell_type": "code",
   "execution_count": null,
   "metadata": {},
   "outputs": [],
   "source": [
    "import pytorch_lightning as pl\n",
    "class UNet(model.UNet, pl.LightningModule):\n",
    "    def training_step(self, batch, batch_idx):\n",
    "        images = batch['images']\n",
    "        masks = batch['masks']\n",
    "        # cracks = batch['cracks']\n",
    "        outputs = self.forward(images)\n",
    "        loss = criterion_dice(outputs, masks)\n",
    "        # self.log('train_loss', loss)\n",
    "        return {'loss': loss}\n",
    "\n",
    "    def validation_step(self, batch, batch_idx):\n",
    "        images = batch['images']\n",
    "        masks = batch['masks']\n",
    "        # cracks = batch['cracks']\n",
    "        outputs = self.forward(images)\n",
    "        loss = criterion_dice(outputs, masks)\n",
    "        # self.log('valid_loss', loss)\n",
    "        return {'loss': loss}\n",
    "\n",
    "    def configure_optimizers(self):\n",
    "        return torch.optim.SGD(self.parameters(), lr=1e-3)"
   ]
  },
  {
   "cell_type": "code",
   "execution_count": null,
   "metadata": {
    "tags": []
   },
   "outputs": [],
   "source": [
    "datasets = {\n",
    "    'train': dataset.CracksDataset('train'),\n",
    "    'valid': dataset.CracksDataset('valid'),\n",
    "}\n",
    "loaders = {\n",
    "    'train': datasets['train'].get_loader(batch_size=2, shuffle=True, drop_last=True),\n",
    "    'valid': datasets['valid'].get_loader(batch_size=2),\n",
    "}"
   ]
  },
  {
   "cell_type": "code",
   "execution_count": null,
   "metadata": {},
   "outputs": [],
   "source": [
    "net = UNet()\n",
    "utils.get_gpu_memory_info()"
   ]
  },
  {
   "cell_type": "code",
   "execution_count": null,
   "metadata": {},
   "outputs": [],
   "source": [
    "trainer = pl.Trainer(max_epochs=3)\n",
    "trainer.fit(net, loaders['train'], loaders['valid'])"
   ]
  },
  {
   "cell_type": "code",
   "execution_count": null,
   "metadata": {},
   "outputs": [],
   "source": []
  }
 ]
}